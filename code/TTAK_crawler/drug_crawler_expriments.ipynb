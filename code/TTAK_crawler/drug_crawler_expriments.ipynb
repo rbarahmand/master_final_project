{
 "cells": [
  {
   "cell_type": "markdown",
   "id": "d6b3c9f7-1f95-4ec6-8901-5d433f57b259",
   "metadata": {},
   "source": [
    "# Selenuim"
   ]
  },
  {
   "cell_type": "code",
   "execution_count": null,
   "id": "197ca958-6134-4139-9047-f4b2c428a9d3",
   "metadata": {},
   "outputs": [],
   "source": [
    "## import libraries\n",
    "from selenium import webdriver\n",
    "import pandas as pd\n",
    "import os\n",
    "import time\n",
    "from tqdm import tqdm\n",
    "\n",
    "\n",
    "## initialization\n",
    "if not os.path.exists(\"dataset\"):\n",
    "    os.mkdir(\"dataset\")\n",
    "    \n",
    "print(time.ctime(time.time()))\n",
    "driver = webdriver.Chrome()\n",
    "data = pd.DataFrame({\"name\": [],\n",
    "                    \"general_name\": [],\n",
    "                    \"drug_type\": [],\n",
    "                    \"consumption\": [],\n",
    "                    \"license\": [],\n",
    "                    \"brand\": [],\n",
    "                    \"producer\": [],\n",
    "                    \"license_exp\": [],\n",
    "                    \"price_per_pack\": [],\n",
    "                    \"unit_price\": [],\n",
    "                    \"GTIN\": [],\n",
    "                    \"IRC\": [],\n",
    "                    \"number_per_pack\": [],\n",
    "                    \"ingredients\": [],\n",
    "                    \"ATC\": []})\n",
    "\n",
    "\n",
    "## change numbers base on your system and website\n",
    "start = 1\n",
    "max_allowed_i = 200    # 45433\n",
    "per_partition = 50    # 5000\n",
    "num_features_to_crawl = 15\n",
    "\n",
    "\n",
    "## crawler and organizer \n",
    "for i in tqdm(range(start, max_allowed_i+1)):\n",
    "    driver.get(f\"https://irc.fda.gov.ir/nfi/Detail/{i}\")\n",
    "    # time.sleep(1.5)\n",
    "    temp_data = [None] * num_features_to_crawl\n",
    "    \n",
    "    temp_data[0] = driver.find_element(by='xpath', value=\"\"\"/html/body/div[1]/div[5]/div[1]/div[1]/div/div/div[3]/div[1]/div[1]/span\"\"\").text\n",
    "    temp_data[1] = driver.find_element(by='xpath', value=\"\"\"/html/body/div[1]/div[5]/div[1]/div[1]/div/div/div[3]/div[1]/div[2]/bdo\"\"\").text\n",
    "    temp_data[2] = driver.find_element(by='xpath', value=\"\"\"/html/body/div[1]/div[5]/div[1]/div[1]/div/div/div[3]/div[2]/div[1]/span\"\"\").text\n",
    "    temp_data[3] = driver.find_element(by='xpath', value=\"\"\"/html/body/div[1]/div[5]/div[1]/div[1]/div/div/div[3]/div[2]/div[2]/bdo\"\"\").text\n",
    "    temp_data[4] = driver.find_element(by='xpath', value=\"\"\"/html/body/div[1]/div[5]/div[1]/div[1]/div/div/div[3]/div[3]/div[1]/span\"\"\").text\n",
    "    temp_data[5] = driver.find_element(by='xpath', value=\"\"\"/html/body/div[1]/div[5]/div[1]/div[1]/div/div/div[3]/div[3]/div[2]/span\"\"\").text\n",
    "    temp_data[6] = driver.find_element(by='xpath', value=\"\"\"/html/body/div[1]/div[5]/div[1]/div[1]/div/div/div[3]/div[4]/div[1]/span\"\"\").text\n",
    "    temp_data[7] = driver.find_element(by='xpath', value=\"\"\"/html/body/div[1]/div[5]/div[1]/div[1]/div/div/div[3]/div[4]/div[2]/span\"\"\").text\n",
    "    temp_data[8] = driver.find_element(by='xpath', value=\"\"\"/html/body/div[1]/div[5]/div[1]/div[1]/div/div/div[3]/div[5]/div[1]/span[1]\"\"\").text\n",
    "    temp_data[9] = driver.find_element(by='xpath', value=\"\"\"/html/body/div[1]/div[5]/div[1]/div[1]/div/div/div[3]/div[5]/div[2]/span[1]\"\"\").text\n",
    "    temp_data[10] = driver.find_element(by='xpath', value=\"\"\"/html/body/div[1]/div[5]/div[1]/div[1]/div/div/div[3]/div[6]/div[1]/span\"\"\").text\n",
    "    temp_data[11] = driver.find_element(by='xpath', value=\"\"\"/html/body/div[1]/div[5]/div[1]/div[1]/div/div/div[3]/div[6]/div[2]/span\"\"\").text\n",
    "    temp_data[12] = driver.find_element(by='xpath', value=\"\"\"/html/body/div[1]/div[5]/div[1]/div[1]/div/div/div[3]/div[7]/div[1]/bdo\"\"\").text\n",
    "    temp_data[13] = driver.find_element(by='xpath', value=\"\"\"/html/body/div[1]/div[5]/div[1]/div[1]/div/div/div[3]/div[9]/div/div/div[1]/div[3]/div[1]/span\"\"\").text\n",
    "    temp_data[14] = driver.find_element(by='xpath', value=\"\"\"/html/body/div[1]/div[5]/div[1]/div[1]/div/div/div[3]/div[9]/div/div/div[2]/div[3]/label\"\"\").text\n",
    "\n",
    "    data.loc[i] = temp_data\n",
    "\n",
    "    \n",
    "    ## data saver\n",
    "    if i == max_allowed_i:\n",
    "        data.to_csv(f\"dataset/data{i}.csv\")\n",
    "        # print(f\"{i}/{max_allowed_i}\")\n",
    "        break\n",
    "    elif i % per_partition == 0:\n",
    "        data.to_csv(f\"dataset/data{i}.csv\")\n",
    "        data = pd.DataFrame({\"name\": [],\n",
    "                    \"general_name\": [],\n",
    "                    \"drug_type\": [],\n",
    "                    \"consumption\": [],\n",
    "                    \"license\": [],\n",
    "                    \"brand\": [],\n",
    "                    \"producer\": [],\n",
    "                    \"license_exp\": [],\n",
    "                    \"price_per_pack\": [],\n",
    "                    \"unit_price\": [],\n",
    "                    \"GTIN\": [],\n",
    "                    \"IRC\": [],\n",
    "                    \"number_per_pack\": [],\n",
    "                    \"ingredients\": [],\n",
    "                    \"ATC\": []})\n",
    "        # print(f\"{i}/{max_allowed_i}\")\n",
    "\n",
    "\n",
    "\n",
    "print(time.ctime(time.time()))\n",
    "\n",
    "driver.quit()"
   ]
  },
  {
   "cell_type": "code",
   "execution_count": null,
   "id": "a9f6ec9f-32fd-4f8d-ae17-c93b2af9f015",
   "metadata": {},
   "outputs": [],
   "source": [
    "import requests\n",
    "from bs4 import BeautifulSoup\n",
    "from tqdm import tqdm\n",
    "import pandas as pd\n",
    "import os\n",
    "import time\n",
    "\n",
    "\n",
    "## initialization\n",
    "if not os.path.exists(\"dataset\"):\n",
    "    os.mkdir(\"dataset\")\n",
    "    \n",
    "# print(time.ctime(time.time()))\n",
    "# driver = webdriver.Chrome()\n",
    "data = pd.DataFrame({\"name\": [],\n",
    "                    \"general_name\": [],\n",
    "                    \"drug_type\": [],\n",
    "                    \"consumption\": [],\n",
    "                    \"license\": [],\n",
    "                    \"brand\": [],\n",
    "                    \"producer\": [],\n",
    "                    \"license_exp\": [],\n",
    "                    \"price_per_pack\": [],\n",
    "                    \"unit_price\": [],\n",
    "                    \"GTIN\": [],\n",
    "                    \"IRC\": [],\n",
    "                    \"number_per_pack\": [],\n",
    "                    \"ingredients\": [],\n",
    "                    \"ATC\": []})\n",
    "\n",
    "## change numbers base on your system and website\n",
    "start = 1\n",
    "max_allowed_i = 2    # 45433\n",
    "per_partition = 5    # 5000\n",
    "num_features_to_crawl = 15\n",
    "\n",
    "\n",
    "## crawler and organizer \n",
    "for i in tqdm(range(start, max_allowed_i+1)):\n",
    "    res = requests.get(f\"https://irc.fda.gov.ir/nfi/Detail/{i}\")\n",
    "    soup = BeautifulSoup(res.text, 'html.parser')\n",
    "    print(soup.get_text())\n",
    "    # print(soup.find_all(\"span\", class_=\"txtAlignLTR\"))\n",
    "    # print(len(soup.find_all(\"span\", class_=\"txtAlignLTR\")))"
   ]
  },
  {
   "cell_type": "code",
   "execution_count": 1,
   "id": "6d83257d-68a8-48ec-bdce-40449cfa2921",
   "metadata": {},
   "outputs": [],
   "source": [
    "import requests\n",
    "from bs4 import BeautifulSoup\n",
    "\n",
    "res = requests.get(f\"https://irc.fda.gov.ir/nfi/Detail/1\")\n",
    "soup = BeautifulSoup(res.text, 'html.parser')"
   ]
  },
  {
   "cell_type": "markdown",
   "id": "8c3316b2-3e77-4d3d-a836-7c4ba5790d28",
   "metadata": {},
   "source": [
    "# selecting 10 green features"
   ]
  },
  {
   "cell_type": "code",
   "execution_count": 35,
   "id": "838659dd-b745-41b0-8789-8dff3e7ac81e",
   "metadata": {},
   "outputs": [],
   "source": [
    "tag = soup.select(\"\"\"body > div > div.animationPage > div.MainBoxSearchDetail > div.paddingSearchDetail > div > div > div.col-lg-12.col-md-12.col-sm-12.col-xs-12.padding0 > div > div.col-lg-5.col-md-5.col-sm-6.col-xs-12\"\"\")"
   ]
  },
  {
   "cell_type": "code",
   "execution_count": 83,
   "id": "1f15a3c3-98c0-4f8f-9689-09e3f03f836f",
   "metadata": {},
   "outputs": [
    {
     "name": "stdout",
     "output_type": "stream",
     "text": [
      "1 AMPULE in 1 CARTON\n"
     ]
    }
   ],
   "source": [
    "print(tag[10].contents[3].string.strip())"
   ]
  },
  {
   "cell_type": "code",
   "execution_count": 111,
   "id": "d0e20d98-c335-4ca0-bd6f-9cdb8961dbc6",
   "metadata": {},
   "outputs": [
    {
     "name": "stdout",
     "output_type": "stream",
     "text": [
      "<div class=\"col-lg-5 col-md-5 col-sm-6 col-xs-12\">\n",
      "<label class=\"txtSearch colorBlack\">نحوه مصرف :</label>\n",
      "<bdo class=\"txtAlignLTR\">\n",
      "                                    PARENTERAL\n",
      "                                </bdo>\n",
      "</div>\n"
     ]
    }
   ],
   "source": [
    "print(tag[2])"
   ]
  },
  {
   "cell_type": "markdown",
   "id": "fd153485-df75-4c9b-ac46-0e58cf24bf1f",
   "metadata": {},
   "source": [
    "# Selecting 4 other things (main table)"
   ]
  },
  {
   "cell_type": "markdown",
   "id": "842e0a8f-31c1-4320-93b0-f091d6d9c5f7",
   "metadata": {},
   "source": [
    "## general name"
   ]
  },
  {
   "cell_type": "code",
   "execution_count": 85,
   "id": "951f27f5-7240-4c96-993d-ef9a29f2a04d",
   "metadata": {},
   "outputs": [],
   "source": [
    "tag2 = soup.select(\"\"\"body > div > div.animationPage > div.MainBoxSearchDetail > div.paddingSearchDetail > div > div > div.col-lg-12.col-md-12.col-sm-12.col-xs-12.padding0 > div > div.col-lg-7.col-md-7.col-sm-12.col-xs-12 > bdo\"\"\")"
   ]
  },
  {
   "cell_type": "code",
   "execution_count": 95,
   "id": "a861a090-01bc-409d-890a-a117423fc176",
   "metadata": {},
   "outputs": [
    {
     "name": "stdout",
     "output_type": "stream",
     "text": [
      "METHYLPREDNISOLONE ACETATE INJECTION, SUSPENSION PARENTERAL 40 mg/1mL 1MILLILITER\n"
     ]
    }
   ],
   "source": [
    "print(tag2[0].string.strip())"
   ]
  },
  {
   "cell_type": "markdown",
   "id": "bf43a7bd-61e0-4387-8413-e178d3816736",
   "metadata": {},
   "source": [
    "## Name Omoomi"
   ]
  },
  {
   "cell_type": "code",
   "execution_count": 122,
   "id": "93921b58-3e3c-4899-9498-9989420999b6",
   "metadata": {},
   "outputs": [],
   "source": [
    "tag3 = soup.select(\"\"\"body > div > div.animationPage > div.MainBoxSearchDetail > div.paddingSearchDetail > div > div > div.col-lg-12.col-md-12.col-sm-12.col-xs-12.padding0 > div > div\"\"\")"
   ]
  },
  {
   "cell_type": "code",
   "execution_count": 157,
   "id": "ba38d7f5-6580-4b31-88e2-d89e36b37e94",
   "metadata": {},
   "outputs": [
    {
     "name": "stdout",
     "output_type": "stream",
     "text": [
      "METHYLPREDNISOLONE ACETATE INJECTION, SUSPENSION PARENTERAL 40 mg/1mL 1MILLILITER\n"
     ]
    }
   ],
   "source": [
    "print(tag3[1].contents[3].text.strip())"
   ]
  },
  {
   "cell_type": "markdown",
   "id": "4bb07aa8-6863-4dc3-aa8f-3f456bd70ff0",
   "metadata": {},
   "source": [
    "## Country"
   ]
  },
  {
   "cell_type": "code",
   "execution_count": 171,
   "id": "dfd1f597-29b6-43c7-9415-b0ccd35cbf23",
   "metadata": {},
   "outputs": [
    {
     "name": "stdout",
     "output_type": "stream",
     "text": [
      "ایران\n"
     ]
    }
   ],
   "source": [
    "print(tag3[5].contents[3].img.get('title'))"
   ]
  },
  {
   "cell_type": "markdown",
   "id": "31200c26-2494-4b8f-a89a-2cc575b23717",
   "metadata": {},
   "source": [
    "## brand"
   ]
  },
  {
   "cell_type": "code",
   "execution_count": 177,
   "id": "76717e28-33eb-4792-a55f-40f30e8aadcd",
   "metadata": {},
   "outputs": [
    {
     "name": "stdout",
     "output_type": "stream",
     "text": [
      "البرز دارو\n"
     ]
    }
   ],
   "source": [
    "print(tag3[5].contents[3].text.strip())"
   ]
  },
  {
   "cell_type": "markdown",
   "id": "81cc6172-6a37-482f-bb53-487ca0f108c5",
   "metadata": {},
   "source": [
    "## unit_price"
   ]
  },
  {
   "cell_type": "code",
   "execution_count": 179,
   "id": "f94d8149-d95d-4364-89c2-f185527ba423",
   "metadata": {},
   "outputs": [
    {
     "name": "stdout",
     "output_type": "stream",
     "text": [
      "159700\n"
     ]
    }
   ],
   "source": [
    "print(tag3[9].contents[3].text.strip())"
   ]
  },
  {
   "cell_type": "code",
   "execution_count": 186,
   "id": "560212f7-0728-4d0e-a08f-93897b516ad1",
   "metadata": {},
   "outputs": [],
   "source": [
    "# print(tag3[16].div.div.prettify())"
   ]
  },
  {
   "cell_type": "markdown",
   "id": "5042cf31-6741-47a0-ba54-c1c3d026718c",
   "metadata": {},
   "source": [
    "## ingredients"
   ]
  },
  {
   "cell_type": "code",
   "execution_count": 189,
   "id": "ea1e1653-cf3f-4955-871e-ce8287560baf",
   "metadata": {},
   "outputs": [],
   "source": [
    "tag4 = soup.select(\"\"\"body > div > div.animationPage > div.MainBoxSearchDetail > div.paddingSearchDetail > div > div > div.col-lg-12.col-md-12.col-sm-12.col-xs-12.padding0 > div > div > div > div.col-lg-7.col-md-12.col-sm-12.col-xs-12 > div > div.col-lg-5.col-md-5.col-sm-12.col-xs-12 > span\"\"\")"
   ]
  },
  {
   "cell_type": "code",
   "execution_count": 192,
   "id": "e2b28a9b-959a-470a-b0d0-487aad8952a4",
   "metadata": {},
   "outputs": [
    {
     "name": "stdout",
     "output_type": "stream",
     "text": [
      "METHYLPREDNISOLONE ACETATE 40 mg/1mL\n"
     ]
    }
   ],
   "source": [
    "print(tag4[0].string.strip())"
   ]
  },
  {
   "cell_type": "code",
   "execution_count": 198,
   "id": "e501ea1a-3c5a-473a-8ef0-7b33ea56c0a2",
   "metadata": {},
   "outputs": [],
   "source": [
    "tag5 = soup.select(\"\"\"body > div > div.animationPage > div.MainBoxSearchDetail > div.paddingSearchDetail > div > div > div.col-lg-12.col-md-12.col-sm-12.col-xs-12.padding0 > div > div > div > div.col-lg-5.col-md-12.col-sm-12.col-xs-12 > div.col-lg-12.col-md-12.col-sm-12.col-xs-12.boldtext.txtEnglish-ltr > label\"\"\")"
   ]
  },
  {
   "cell_type": "markdown",
   "id": "f35e4ebb-9582-482e-8cc8-01e92749f817",
   "metadata": {},
   "source": [
    "## atc code"
   ]
  },
  {
   "cell_type": "code",
   "execution_count": 201,
   "id": "5b36fe0d-a32a-47d5-bc8a-9a5ee6d15dea",
   "metadata": {},
   "outputs": [
    {
     "name": "stdout",
     "output_type": "stream",
     "text": [
      "H02AB04\n"
     ]
    }
   ],
   "source": [
    "print(tag5[0].string)"
   ]
  },
  {
   "cell_type": "markdown",
   "id": "ed175243-b93a-4b57-b7f4-571f2ba2601c",
   "metadata": {},
   "source": [
    "# Full beautiful soup"
   ]
  },
  {
   "cell_type": "code",
   "execution_count": null,
   "id": "428756d5-b3f5-4416-86ea-6630085db968",
   "metadata": {},
   "outputs": [],
   "source": [
    "import requests\n",
    "from bs4 import BeautifulSoup\n",
    "from tqdm import tqdm\n",
    "import pandas as pd\n",
    "import os\n",
    "import time\n",
    "\n",
    "\n",
    "## initialization\n",
    "print(time.ctime(time.time()))\n",
    "if not os.path.exists(\"dataset\"):\n",
    "    os.mkdir(\"dataset\")\n",
    "    \n",
    "data = pd.DataFrame({\"name\": [],\n",
    "                    \"general_name\": [],\n",
    "                    \"drug_type\": [],\n",
    "                    \"consumption\": [],\n",
    "                    \"license\": [],\n",
    "                    \"brand\": [],\n",
    "                    \"country\": [],\n",
    "                    \"producer\": [],\n",
    "                    \"license_exp\": [],\n",
    "                    \"price_per_pack\": [],\n",
    "                    \"unit_price\": [],\n",
    "                    \"GTIN\": [],\n",
    "                    \"IRC\": [],\n",
    "                    \"number_per_pack\": [],\n",
    "                    \"ingredients\": [],\n",
    "                    \"ATC_code\": []})\n",
    "\n",
    "## change numbers base on your system and website\n",
    "start = 1\n",
    "max_allowed_i = 2    # 45433\n",
    "per_partition = 5    # 5000\n",
    "num_features_to_crawl = 16\n",
    "\n",
    "\n",
    "## crawler and organizer \n",
    "for i in tqdm(range(start, max_allowed_i+1)):\n",
    "    temp_data = [None] * num_features_to_crawl\n",
    "    res = requests.get(f\"https://irc.fda.gov.ir/nfi/Detail/{i}\")\n",
    "    soup = BeautifulSoup(res.text, 'html.parser')\n",
    "\n",
    "    # tags\n",
    "    tag0 = soup.select(\"\"\"body > div > div.animationPage > div.MainBoxSearchDetail > div.paddingSearchDetail > div > div > div.col-lg-12.col-md-12.col-sm-12.col-xs-12.padding0 > div > div.col-lg-5.col-md-5.col-sm-6.col-xs-12\"\"\")\n",
    "    tag1 = soup.select(\"\"\"body > div > div.animationPage > div.MainBoxSearchDetail > div.paddingSearchDetail > div > div > div.col-lg-12.col-md-12.col-sm-12.col-xs-12.padding0 > div > div.col-lg-7.col-md-7.col-sm-12.col-xs-12 > bdo\"\"\")\n",
    "    tag2 = \n",
    "    \n",
    "    temp_data[0] = tag0[0].contents[3].string.strip()\n",
    "    temp_data[1] = tag0[0].contents[3].string.strip()\n",
    "    temp_data[2] = tag0[0].contents[3].string.strip()\n",
    "    temp_data[3] = tag0[0].contents[3].string.strip()\n",
    "    temp_data[4] = tag0[0].contents[3].string.strip()\n",
    "    temp_data[5] = tag0[0].contents[3].string.strip()\n",
    "    temp_data[6] = tag0[0].contents[3].string.strip()\n",
    "    temp_data[7] = tag0[0].contents[3].string.strip()\n",
    "    temp_data[8] = tag0[0].contents[3].string.strip()\n",
    "    temp_data[9] = tag0[0].contents[3].string.strip()\n",
    "    \n",
    "\n",
    "\n",
    "print(time.ctime(time.time()))"
   ]
  }
 ],
 "metadata": {
  "kernelspec": {
   "display_name": "Python 3 (ipykernel)",
   "language": "python",
   "name": "python3"
  },
  "language_info": {
   "codemirror_mode": {
    "name": "ipython",
    "version": 3
   },
   "file_extension": ".py",
   "mimetype": "text/x-python",
   "name": "python",
   "nbconvert_exporter": "python",
   "pygments_lexer": "ipython3",
   "version": "3.11.5"
  }
 },
 "nbformat": 4,
 "nbformat_minor": 5
}
