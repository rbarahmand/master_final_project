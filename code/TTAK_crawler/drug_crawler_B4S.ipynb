{
 "cells": [
  {
   "cell_type": "code",
   "execution_count": 1,
   "id": "76ff260f",
   "metadata": {
    "jupyter": {
     "source_hidden": true
    },
    "tags": []
   },
   "outputs": [],
   "source": [
    "# !pip install tqdm\n",
    "# !pip install beautifulsoup4"
   ]
  },
  {
   "cell_type": "code",
   "execution_count": 28,
   "id": "d390db68-57a7-41d4-9b7f-9cc13eca4c4a",
   "metadata": {},
   "outputs": [
    {
     "name": "stdout",
     "output_type": "stream",
     "text": [
      "Fri Jan 26 23:57:06 2024\n"
     ]
    },
    {
     "name": "stderr",
     "output_type": "stream",
     "text": [
      "100%|████████████████████████████████████████████████▉| 999/1000 [12:22<00:00,  1.35it/s]"
     ]
    },
    {
     "name": "stdout",
     "output_type": "stream",
     "text": [
      "Sat Jan 27 00:09:28 2024\n"
     ]
    },
    {
     "name": "stderr",
     "output_type": "stream",
     "text": [
      "\n"
     ]
    }
   ],
   "source": [
    "import requests\n",
    "from bs4 import BeautifulSoup\n",
    "from tqdm import tqdm\n",
    "import pandas as pd\n",
    "import os\n",
    "import time\n",
    "import numpy as np\n",
    "\n",
    "\n",
    "## initialization\n",
    "print(time.ctime(time.time()))\n",
    "if not os.path.exists(\"dataset\"):\n",
    "    os.mkdir(\"dataset\")\n",
    "    \n",
    "data = pd.DataFrame({\"page\": [],\n",
    "                    \"name\": [],\n",
    "                    \"general_name\": [],\n",
    "                    \"drug_type\": [],\n",
    "                    \"consumption\": [],\n",
    "                    \"license\": [],\n",
    "                    \"brand\": [],\n",
    "                    \"country\": [],\n",
    "                    \"producer\": [],\n",
    "                    \"license_exp\": [],\n",
    "                    \"price_per_pack\": [],\n",
    "                    \"unit_price\": [],\n",
    "                    \"GTIN\": [],\n",
    "                    \"IRC\": [],\n",
    "                    \"number_per_pack\": [],\n",
    "                    \"ingredients\": [],\n",
    "                    \"ATC_code\": []})\n",
    "\n",
    "## change numbers base on your system and website\n",
    "start = 1\n",
    "max_allowed_i = 1000    # 45433\n",
    "per_partition = 1000    # 5000\n",
    "num_features_to_crawl = 16\n",
    "break_lim = 5\n",
    "\n",
    "\n",
    "## crawler and organizer \n",
    "breaker = 0\n",
    "for i in tqdm(range(start, max_allowed_i+1)):\n",
    "    temp_data = [None] * (num_features_to_crawl + 1)\n",
    "    res = requests.get(f\"https://irc.fda.gov.ir/nfi/Detail/{i}\")\n",
    "    soup = BeautifulSoup(res.text, 'html.parser')\n",
    "    \n",
    "    # tags\n",
    "    tag0 = soup.select(\"\"\"body > div > div.animationPage > div.MainBoxSearchDetail > div.paddingSearchDetail > div > div > div.col-lg-12.col-md-12.col-sm-12.col-xs-12.padding0 > div > div.col-lg-5.col-md-5.col-sm-6.col-xs-12\"\"\")\n",
    "    tag1 = soup.select(\"\"\"body > div > div.animationPage > div.MainBoxSearchDetail > div.paddingSearchDetail > div > div > div.col-lg-12.col-md-12.col-sm-12.col-xs-12.padding0 > div > div\"\"\")\n",
    "    tag2 = soup.select(\"\"\"body > div > div.animationPage > div.MainBoxSearchDetail > div.paddingSearchDetail > div > div > div.col-lg-12.col-md-12.col-sm-12.col-xs-12.padding0 > div > div > div > div.col-lg-7.col-md-12.col-sm-12.col-xs-12 > div > div.col-lg-5.col-md-5.col-sm-12.col-xs-12 > span\"\"\")\n",
    "    tag3 = soup.select(\"\"\"body > div > div.animationPage > div.MainBoxSearchDetail > div.paddingSearchDetail > div > div > div.col-lg-12.col-md-12.col-sm-12.col-xs-12.padding0 > div > div > div > div.col-lg-5.col-md-12.col-sm-12.col-xs-12 > div.col-lg-12.col-md-12.col-sm-12.col-xs-12.boldtext.txtEnglish-ltr > label\"\"\")\n",
    "\n",
    "    try:\n",
    "        # organizing data\n",
    "        temp_data[0] = i\n",
    "        temp_data[1] = tag0[0].contents[3].string.strip()\n",
    "        temp_data[2] = tag1[1].contents[3].text.strip()\n",
    "        temp_data[3] = tag0[1].contents[3].string.strip()\n",
    "        temp_data[4] = tag0[2].contents[3].string.strip()\n",
    "        temp_data[5] = tag0[3].contents[3].string.strip()\n",
    "        temp_data[6] = tag1[5].contents[3].text.strip()\n",
    "        temp_data[7] = tag1[5].contents[3].img.get('title')\n",
    "        temp_data[8] = tag0[5].contents[3].string.strip()\n",
    "        temp_data[9] = tag0[6].contents[3].string.strip()\n",
    "        temp_data[10] = tag0[7].contents[3].string.strip()\n",
    "        temp_data[11] = tag1[9].contents[3].text.strip()\n",
    "        temp_data[12] = tag0[8].contents[3].string.strip()\n",
    "        temp_data[13] = tag0[9].contents[3].string.strip()\n",
    "        temp_data[14] = tag0[10].contents[3].string.strip()\n",
    "        temp_data[15] = tag2[0].string.strip()\n",
    "        temp_data[16] = tag3[0].string\n",
    "        \n",
    "        breaker = 0   # if data seen\n",
    "    \n",
    "    except IndexError: # if see any error delete \"IndexError\"\n",
    "        temp_data[0] = i\n",
    "        temp_data[1:] = [np.nan] * num_features_to_crawl\n",
    "        breaker += 1\n",
    "\n",
    "        if breaker == break_lim:\n",
    "            data.to_csv(f\"dataset/data{i}.csv\", index=False)\n",
    "            break\n",
    "    \n",
    "    \n",
    "    ## data saver\n",
    "    data.loc[i] = temp_data\n",
    "    if i == max_allowed_i:\n",
    "        data.to_csv(f\"dataset/data{i}.csv\", index=False)\n",
    "        # print(f\"{i}/{max_allowed_i}\")\n",
    "        break\n",
    "    elif i % per_partition == 0:\n",
    "        data.to_csv(f\"dataset/data{i}.csv\", index=False)\n",
    "        data = pd.DataFrame({\"page\": [],\n",
    "                             \"name\": [],\n",
    "                    \"general_name\": [],\n",
    "                    \"drug_type\": [],\n",
    "                    \"consumption\": [],\n",
    "                    \"license\": [],\n",
    "                    \"brand\": [],\n",
    "                    \"country\": [],\n",
    "                    \"producer\": [],\n",
    "                    \"license_exp\": [],\n",
    "                    \"price_per_pack\": [],\n",
    "                    \"unit_price\": [],\n",
    "                    \"GTIN\": [],\n",
    "                    \"IRC\": [],\n",
    "                    \"number_per_pack\": [],\n",
    "                    \"ingredients\": [],\n",
    "                    \"ATC_code\": []})\n",
    "\n",
    "\n",
    "print(time.ctime(time.time()))"
   ]
  },
  {
   "cell_type": "code",
   "execution_count": null,
   "id": "8c6df320-c369-4702-9f22-76d439ce0dde",
   "metadata": {},
   "outputs": [],
   "source": []
  }
 ],
 "metadata": {
  "kernelspec": {
   "display_name": "Python 3 (ipykernel)",
   "language": "python",
   "name": "python3"
  },
  "language_info": {
   "codemirror_mode": {
    "name": "ipython",
    "version": 3
   },
   "file_extension": ".py",
   "mimetype": "text/x-python",
   "name": "python",
   "nbconvert_exporter": "python",
   "pygments_lexer": "ipython3",
   "version": "3.11.5"
  }
 },
 "nbformat": 4,
 "nbformat_minor": 5
}
