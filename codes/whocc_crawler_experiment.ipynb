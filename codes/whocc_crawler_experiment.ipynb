{
 "cells": [
  {
   "cell_type": "code",
   "execution_count": 1,
   "id": "31ac866d-150e-4ee8-ae67-9deda7e7a6f5",
   "metadata": {},
   "outputs": [],
   "source": [
    "import requests\n",
    "from bs4 import BeautifulSoup\n",
    "from tqdm import tqdm\n",
    "import pandas as pd\n",
    "import os\n",
    "import time\n",
    "import numpy as np"
   ]
  },
  {
   "cell_type": "code",
   "execution_count": 2,
   "id": "3d7b2499-cafe-4fdf-ab35-8fc72bc796fe",
   "metadata": {},
   "outputs": [
    {
     "name": "stdout",
     "output_type": "stream",
     "text": [
      "Thu Mar 21 17:39:33 2024\n"
     ]
    }
   ],
   "source": [
    "print(time.ctime(time.time()))\n",
    "if not os.path.exists(\"dataset\"):\n",
    "    os.mkdir(\"dataset\")"
   ]
  },
  {
   "cell_type": "code",
   "execution_count": 72,
   "id": "324953ed-a833-48ed-b9eb-0013132eefab",
   "metadata": {},
   "outputs": [],
   "source": [
    "data = pd.DataFrame({\"atc_code\": [],\n",
    "                    \"name\": [],\n",
    "                    \"url\": []})"
   ]
  },
  {
   "cell_type": "code",
   "execution_count": 20,
   "id": "58965319-ac16-4c8e-8a7d-ab56f5cafa20",
   "metadata": {},
   "outputs": [],
   "source": [
    "res = requests.get(\"https://atcddd.fhi.no/atc_ddd_index/\")"
   ]
  },
  {
   "cell_type": "code",
   "execution_count": 21,
   "id": "d2b2df09-a134-4971-8f31-a8c89560282e",
   "metadata": {},
   "outputs": [],
   "source": [
    "soup = BeautifulSoup(res.text, 'html.parser')"
   ]
  },
  {
   "cell_type": "code",
   "execution_count": 22,
   "id": "806562f6-dbff-4ae3-b175-5c5ce818b91b",
   "metadata": {},
   "outputs": [],
   "source": [
    "tag0 = soup.select(\"\"\"#content > div:nth-child(5) > div:nth-child(2) > p\"\"\")"
   ]
  },
  {
   "cell_type": "code",
   "execution_count": 23,
   "id": "a22b267e-ea1a-4070-802b-9e23c9302451",
   "metadata": {},
   "outputs": [
    {
     "name": "stdout",
     "output_type": "stream",
     "text": [
      "[<p>A <b><a href=\"./?code=A&amp;showdescription=no\">ALIMENTARY TRACT AND METABOLISM</a></b><br/>B <b><a href=\"./?code=B&amp;showdescription=no\">BLOOD AND BLOOD FORMING ORGANS</a></b><br/>C <b><a href=\"./?code=C&amp;showdescription=no\">CARDIOVASCULAR SYSTEM</a></b><br/>D <b><a href=\"./?code=D&amp;showdescription=no\">DERMATOLOGICALS</a></b><br/>G <b><a href=\"./?code=G&amp;showdescription=no\">GENITO URINARY SYSTEM AND SEX HORMONES</a></b><br/>H <b><a href=\"./?code=H&amp;showdescription=no\">SYSTEMIC HORMONAL PREPARATIONS, EXCL. SEX HORMONES AND INSULINS</a></b><br/>J <b><a href=\"./?code=J&amp;showdescription=no\">ANTIINFECTIVES FOR SYSTEMIC USE</a></b><br/>L <b><a href=\"./?code=L&amp;showdescription=no\">ANTINEOPLASTIC AND IMMUNOMODULATING AGENTS</a></b><br/>M <b><a href=\"./?code=M&amp;showdescription=no\">MUSCULO-SKELETAL SYSTEM</a></b><br/>N <b><a href=\"./?code=N&amp;showdescription=no\">NERVOUS SYSTEM</a></b><br/>P <b><a href=\"./?code=P&amp;showdescription=no\">ANTIPARASITIC PRODUCTS, INSECTICIDES AND REPELLENTS</a></b><br/>R <b><a href=\"./?code=R&amp;showdescription=no\">RESPIRATORY SYSTEM</a></b><br/>S <b><a href=\"./?code=S&amp;showdescription=no\">SENSORY ORGANS</a></b><br/>V <b><a href=\"./?code=V&amp;showdescription=no\">VARIOUS</a></b><br/></p>]\n"
     ]
    }
   ],
   "source": [
    "print(tag0)"
   ]
  },
  {
   "cell_type": "code",
   "execution_count": 57,
   "id": "85f0ae01-e2b2-41da-b6ce-d0d187b95233",
   "metadata": {},
   "outputs": [
    {
     "data": {
      "text/plain": [
       "'B '"
      ]
     },
     "execution_count": 57,
     "metadata": {},
     "output_type": "execute_result"
    }
   ],
   "source": [
    "tag0[0].contents[3]"
   ]
  },
  {
   "cell_type": "code",
   "execution_count": 45,
   "id": "3c219ebd-7eba-487b-a25f-5de13b7affe4",
   "metadata": {},
   "outputs": [
    {
     "data": {
      "text/plain": [
       "14.0"
      ]
     },
     "execution_count": 45,
     "metadata": {},
     "output_type": "execute_result"
    }
   ],
   "source": [
    "len(tag0[0].contents)/3"
   ]
  },
  {
   "cell_type": "code",
   "execution_count": 49,
   "id": "30d96c9b-ef24-43d5-a2de-e1aa3701a5ac",
   "metadata": {},
   "outputs": [
    {
     "data": {
      "text/plain": [
       "'ALIMENTARY TRACT AND METABOLISM'"
      ]
     },
     "execution_count": 49,
     "metadata": {},
     "output_type": "execute_result"
    }
   ],
   "source": [
    "tag0[0].contents[1].text"
   ]
  },
  {
   "cell_type": "code",
   "execution_count": 67,
   "id": "2323e351-1af5-4801-9690-05cd8771cec9",
   "metadata": {},
   "outputs": [],
   "source": [
    "part_url = tag0[0].contents[1].a.get(\"href\")"
   ]
  },
  {
   "cell_type": "code",
   "execution_count": 68,
   "id": "d1b50b78-b99a-4a13-a54d-f06bb2a3f995",
   "metadata": {},
   "outputs": [
    {
     "data": {
      "text/plain": [
       "'?code=A&showdescription=no'"
      ]
     },
     "execution_count": 68,
     "metadata": {},
     "output_type": "execute_result"
    }
   ],
   "source": [
    "part_url[2:]"
   ]
  },
  {
   "cell_type": "code",
   "execution_count": 7,
   "id": "b037ab39-d891-4bb0-9679-1ed8af6772db",
   "metadata": {},
   "outputs": [],
   "source": [
    "start_url = \"https://atcddd.fhi.no/atc_ddd_index/\""
   ]
  },
  {
   "cell_type": "code",
   "execution_count": 70,
   "id": "be3725ca-b95d-4824-8751-ca26d74c9742",
   "metadata": {},
   "outputs": [
    {
     "data": {
      "text/plain": [
       "'https://atcddd.fhi.no/atc_ddd_index/./?code=A&showdescription=no'"
      ]
     },
     "execution_count": 70,
     "metadata": {},
     "output_type": "execute_result"
    }
   ],
   "source": [
    "full_url = start_url + part_url\n",
    "full_url"
   ]
  },
  {
   "cell_type": "code",
   "execution_count": 73,
   "id": "4e17de05-802f-45db-ad8d-94b974fd4679",
   "metadata": {},
   "outputs": [],
   "source": [
    "temp = int(len(tag0[0].contents)/3)\n",
    "start_url = \"https://atcddd.fhi.no/atc_ddd_index/\"\n",
    "for i in range(temp):\n",
    "    temp_data = [None] * 3\n",
    "    char_index = i * 3\n",
    "    name_index = char_index + 1\n",
    "\n",
    "    char = tag0[0].contents[char_index].strip()\n",
    "    name =  tag0[0].contents[name_index].text\n",
    "    part_url = tag0[0].contents[name_index].a.get(\"href\")\n",
    "    full_url = start_url + part_url[2:]\n",
    "    \n",
    "    temp_data[0] = char\n",
    "    temp_data[1] = name\n",
    "    temp_data[2] = full_url\n",
    "\n",
    "    data.loc[i] = temp_data"
   ]
  },
  {
   "cell_type": "code",
   "execution_count": 77,
   "id": "3ef74b1f-1f24-4649-9070-fc7f442ecc7a",
   "metadata": {},
   "outputs": [],
   "source": [
    "data.to_csv(\"dataset/whocc_lvl1.csv\", header=True, index=False)"
   ]
  },
  {
   "cell_type": "code",
   "execution_count": 3,
   "id": "32ff891f-f10b-48d8-8695-1855dc12abea",
   "metadata": {},
   "outputs": [],
   "source": [
    "def crawler_base():\n",
    "    data = pd.DataFrame({\"atc_code\": [],\n",
    "                    \"name\": [],\n",
    "                    \"url\": []})\n",
    "\n",
    "    start_url = \"https://atcddd.fhi.no/atc_ddd_index/\"\n",
    "    \n",
    "    res = requests.get(start_url)\n",
    "    soup = BeautifulSoup(res.text, 'html.parser')\n",
    "    tag0 = soup.select(\"\"\"#content > div:nth-child(5) > div:nth-child(2) > p\"\"\")\n",
    "    temp = int(len(tag0[0].contents)/3)\n",
    "    \n",
    "    for i in range(temp):\n",
    "        temp_data = [None] * 3\n",
    "        char_index = i * 3\n",
    "        name_index = char_index + 1\n",
    "    \n",
    "        char = tag0[0].contents[char_index].strip()\n",
    "        name =  tag0[0].contents[name_index].text\n",
    "        part_url = tag0[0].contents[name_index].a.get(\"href\")\n",
    "        full_url = start_url + part_url[2:]\n",
    "        \n",
    "        temp_data[0] = char\n",
    "        temp_data[1] = name\n",
    "        temp_data[2] = full_url\n",
    "    \n",
    "        data.loc[i] = temp_data\n",
    "\n",
    "    data.to_csv(f\"dataset/whocc_lvl{1}.csv\", header=True, index=False)"
   ]
  },
  {
   "cell_type": "code",
   "execution_count": 105,
   "id": "0392645a-092e-4c4c-a5d2-69ab1bbf6ecf",
   "metadata": {},
   "outputs": [],
   "source": [
    "res = requests.get('https://atcddd.fhi.no/atc_ddd_index/?code=A07FA&showdescription=no')\n",
    "soup = BeautifulSoup(res.text, 'html.parser')\n",
    "tag0 = soup.select(\"\"\"#content\"\"\")"
   ]
  },
  {
   "cell_type": "code",
   "execution_count": 106,
   "id": "b3e4c520-274d-44be-9b13-676fd2038077",
   "metadata": {},
   "outputs": [
    {
     "data": {
      "text/plain": [
       "1"
      ]
     },
     "execution_count": 106,
     "metadata": {},
     "output_type": "execute_result"
    }
   ],
   "source": [
    "len(tag0)"
   ]
  },
  {
   "cell_type": "code",
   "execution_count": 109,
   "id": "363515a6-ef2b-4371-bf44-54149fb239f9",
   "metadata": {},
   "outputs": [
    {
     "data": {
      "text/plain": [
       "'lactic acid producing organisms'"
      ]
     },
     "execution_count": 109,
     "metadata": {},
     "output_type": "execute_result"
    }
   ],
   "source": [
    "tag0[0].ul.table.contents[3].text.replace(\"\\xa0\", \" \").strip()[8:]"
   ]
  },
  {
   "cell_type": "code",
   "execution_count": 117,
   "id": "a05c1249-76cf-420f-8ad7-591659dc6be8",
   "metadata": {},
   "outputs": [],
   "source": [
    "def crawler_core(lvl, url):\n",
    "    data_handler = pd.DataFrame({\"atc_code\": [], \"name\": [], \"url\": []})\n",
    "    \n",
    "    res = requests.get(url)\n",
    "    soup = BeautifulSoup(res.text, 'html.parser')\n",
    "    if lvl == 2 or lvl == 3 or lvl == 4:\n",
    "        if lvl == 2:\n",
    "            tag0 = soup.select(\"\"\"#content > p:nth-child(4)\"\"\")\n",
    "    \n",
    "        if lvl == 3:\n",
    "            tag0 = soup.select(\"\"\"#content > p:nth-child(6)\"\"\")\n",
    "    \n",
    "        if lvl == 4:\n",
    "            tag0 = soup.select(\"\"\"#content > p:nth-child(8)\"\"\")\n",
    "    \n",
    "        temp = int((len(tag0[0].contents) - 3 ) / 3) \n",
    "    \n",
    "        for i in range(temp):\n",
    "            temp_data = [None] * 3\n",
    "            char_index = i * 3\n",
    "            name_index = char_index + 1\n",
    "        \n",
    "            char = tag0[0].contents[char_index].strip().replace('\\n', '')\n",
    "            name =  tag0[0].contents[name_index].text\n",
    "            part_url = tag0[0].contents[name_index].a.get(\"href\")\n",
    "            full_url = start_url + part_url[2:]\n",
    "            \n",
    "            temp_data[0] = char\n",
    "            temp_data[1] = name\n",
    "            temp_data[2] = full_url\n",
    "        \n",
    "            data_handler.loc[i] = temp_data\n",
    "\n",
    "    if lvl == 5:\n",
    "        tag0 = soup.select(\"\"\"#content\"\"\")\n",
    "        try:\n",
    "            temp = tag0[0].ul.table.contents\n",
    "            for i in range(3, len(temp)):\n",
    "                temp_data = [None] * 3\n",
    "                \n",
    "                char = temp[i].text.replace(\"\\xa0\", \" \").strip()[:7]\n",
    "                name = temp[i].text.replace(\"\\xa0\", \" \").strip()[8:]\n",
    "                full_url = None\n",
    "                \n",
    "                temp_data[0] = char\n",
    "                temp_data[1] = name\n",
    "                temp_data[2] = full_url\n",
    "    \n",
    "                data_handler.loc[i] = temp_data\n",
    "        except AttributeError:\n",
    "            pass\n",
    "                \n",
    "    return data_handler"
   ]
  },
  {
   "cell_type": "code",
   "execution_count": 118,
   "id": "995481e9-4d53-431d-8e86-ecd9108b0b50",
   "metadata": {},
   "outputs": [],
   "source": [
    "def whoccCrawler(lvl=5):\n",
    "    if lvl == 1:\n",
    "        crawler_base()\n",
    "        return\n",
    "        \n",
    "    for i in range(lvl, 0, -1):\n",
    "        if i == 1:\n",
    "            crawler_base()\n",
    "            whoccCrawler()\n",
    "        try:\n",
    "            upper_lvl = pd.read_csv(f\"dataset/whocc_lvl{i-1}.csv\")\n",
    "            print(f\"lvl found: {i-1}\")\n",
    "            \n",
    "            df_list = []\n",
    "            for n in tqdm(range(len(upper_lvl[\"url\"]))):\n",
    "                temp = crawler_core(lvl=i, url=upper_lvl[\"url\"][n])\n",
    "                # print(temp)\n",
    "                df_list.append(temp)\n",
    "\n",
    "            data = pd.concat(df_list, ignore_index=True)\n",
    "            \n",
    "            data.to_csv(f\"dataset/whocc_lvl{i}.csv\",  header=True, index=False)\n",
    "            if i == lvl:\n",
    "                break\n",
    "            else:\n",
    "                whoccCrawler()\n",
    "            # while True:\n",
    "            #     crawler_core(lvl=2, )\n",
    "        except FileNotFoundError:\n",
    "            print(f\"lvl {i-1} not found\")\n",
    "            continue"
   ]
  },
  {
   "cell_type": "code",
   "execution_count": 119,
   "id": "e811a98b-b4c4-467b-b3f3-f56eb860389e",
   "metadata": {},
   "outputs": [
    {
     "name": "stdout",
     "output_type": "stream",
     "text": [
      "lvl found: 4\n"
     ]
    },
    {
     "name": "stderr",
     "output_type": "stream",
     "text": [
      "100%|██████████████████████████████████████████████████| 933/933 [14:38<00:00,  1.06it/s]\n"
     ]
    }
   ],
   "source": [
    "whoccCrawler()"
   ]
  },
  {
   "cell_type": "code",
   "execution_count": null,
   "id": "e1ef983b-9633-4280-97dd-99ea24e502a1",
   "metadata": {},
   "outputs": [],
   "source": []
  }
 ],
 "metadata": {
  "kernelspec": {
   "display_name": "Python 3",
   "language": "python",
   "name": "python3"
  },
  "language_info": {
   "codemirror_mode": {
    "name": "ipython",
    "version": 3
   },
   "file_extension": ".py",
   "mimetype": "text/x-python",
   "name": "python",
   "nbconvert_exporter": "python",
   "pygments_lexer": "ipython3",
   "version": "3.11.5"
  }
 },
 "nbformat": 4,
 "nbformat_minor": 5
}
